{
 "cells": [
  {
   "cell_type": "code",
   "execution_count": 20,
   "id": "5cdab595-b1ee-49e3-b6d5-a7fc59938b97",
   "metadata": {},
   "outputs": [
    {
     "name": "stdout",
     "output_type": "stream",
     "text": [
      "✅ Predicted Insurance Amount: ₹3108.66\n"
     ]
    }
   ],
   "source": [
    "import joblib\n",
    "import pandas as pd\n",
    "\n",
    "# Load model\n",
    "model = joblib.load(\"../models/best_model.pkl\")\n",
    "\n",
    "# Raw input\n",
    "new_input = pd.DataFrame([{\n",
    "    'age': 25,\n",
    "    'sex': 'male',\n",
    "    'bmi': 30.2,\n",
    "    'Children': 0,\n",
    "    'Smoker': 'no',\n",
    "    'Region': 'northeast'\n",
    "}])\n",
    "\n",
    "# Create categorical bins exactly as training\n",
    "new_input['Age Group'] = pd.cut(\n",
    "    new_input['age'],\n",
    "    bins=[0, 30, 45, 60, 100],\n",
    "    labels=['<30', '30-45', '45-60', '60+']\n",
    ")\n",
    "\n",
    "new_input['BMI Category'] = pd.cut(\n",
    "    new_input['bmi'],\n",
    "    bins=[0, 18.5, 25, 30, 100],\n",
    "    labels=['Underweight', 'Normal', 'Overweight', 'Obesity']\n",
    ")\n",
    "\n",
    "# Ensure values are in model's known categories\n",
    "encoder = model.named_steps['preprocessor'].named_transformers_['cat']\n",
    "bmi_known = encoder.categories_[3].tolist()  # adjust index if needed\n",
    "age_known = encoder.categories_[4].tolist()  # adjust index if needed\n",
    "\n",
    "if new_input['BMI Category'].values[0] not in bmi_known:\n",
    "    new_input['BMI Category'] = bmi_known[0]\n",
    "\n",
    "if new_input['Age Group'].values[0] not in age_known:\n",
    "    new_input['Age Group'] = age_known[0]\n",
    "\n",
    "# Predict\n",
    "prediction = model.predict(new_input)\n",
    "print(f\"✅ Predicted Insurance Amount: ₹{round(prediction[0], 2)}\")\n"
   ]
  },
  {
   "cell_type": "code",
   "execution_count": 21,
   "id": "b93e8905-a139-46c4-937a-9588312b27eb",
   "metadata": {},
   "outputs": [
    {
     "name": "stdout",
     "output_type": "stream",
     "text": [
      "Prediction raw output: [3108.655859]\n",
      "Predicted Insurance Amount: ₹3108.66\n"
     ]
    }
   ],
   "source": [
    "print(\"Prediction raw output:\", prediction)\n",
    "print(f\"Predicted Insurance Amount: ₹{round(prediction[0], 2)}\")"
   ]
  },
  {
   "cell_type": "code",
   "execution_count": null,
   "id": "d19044dc-1cbc-4e69-9b54-89cf2e10c724",
   "metadata": {},
   "outputs": [],
   "source": []
  }
 ],
 "metadata": {
  "kernelspec": {
   "display_name": "Python 3 (ipykernel)",
   "language": "python",
   "name": "python3"
  },
  "language_info": {
   "codemirror_mode": {
    "name": "ipython",
    "version": 3
   },
   "file_extension": ".py",
   "mimetype": "text/x-python",
   "name": "python",
   "nbconvert_exporter": "python",
   "pygments_lexer": "ipython3",
   "version": "3.12.5"
  }
 },
 "nbformat": 4,
 "nbformat_minor": 5
}
