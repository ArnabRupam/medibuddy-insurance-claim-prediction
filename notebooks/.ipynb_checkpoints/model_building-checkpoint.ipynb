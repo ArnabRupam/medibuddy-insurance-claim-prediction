{
 "cells": [
  {
   "cell_type": "code",
   "execution_count": 3,
   "id": "b8e5d1d1-a2fe-42d2-bb02-622fc84c5253",
   "metadata": {},
   "outputs": [],
   "source": [
    "# Import core Python libraries\n",
    "import pandas as pd  # for data manipulation\n",
    "import numpy as np   # for numerical computations\n",
    "\n",
    "# Visualization libraries (optional if you've done EDA in Excel)\n",
    "import matplotlib.pyplot as plt\n",
    "import seaborn as sns\n",
    "\n",
    "# Scikit-learn for model building and evaluation\n",
    "from sklearn.model_selection import train_test_split, GridSearchCV\n",
    "from sklearn.preprocessing import OneHotEncoder, StandardScaler\n",
    "from sklearn.compose import ColumnTransformer\n",
    "from sklearn.pipeline import Pipeline\n",
    "from sklearn.ensemble import RandomForestRegressor\n",
    "from sklearn.metrics import mean_absolute_error, mean_squared_error, r2_score\n",
    "\n",
    "# For saving the trained model\n",
    "import joblib"
   ]
  },
  {
   "cell_type": "code",
   "execution_count": 5,
   "id": "3525f978-14f0-4ec5-bea5-3dbf9e95ad42",
   "metadata": {},
   "outputs": [
    {
     "data": {
      "text/html": [
       "<div>\n",
       "<style scoped>\n",
       "    .dataframe tbody tr th:only-of-type {\n",
       "        vertical-align: middle;\n",
       "    }\n",
       "\n",
       "    .dataframe tbody tr th {\n",
       "        vertical-align: top;\n",
       "    }\n",
       "\n",
       "    .dataframe thead th {\n",
       "        text-align: right;\n",
       "    }\n",
       "</style>\n",
       "<table border=\"1\" class=\"dataframe\">\n",
       "  <thead>\n",
       "    <tr style=\"text-align: right;\">\n",
       "      <th></th>\n",
       "      <th>Policy no</th>\n",
       "      <th>age</th>\n",
       "      <th>sex</th>\n",
       "      <th>bmi</th>\n",
       "      <th>charges in INR</th>\n",
       "      <th>Children</th>\n",
       "      <th>Smoker</th>\n",
       "      <th>Region</th>\n",
       "      <th>BMI Category</th>\n",
       "      <th>Age Group</th>\n",
       "    </tr>\n",
       "  </thead>\n",
       "  <tbody>\n",
       "    <tr>\n",
       "      <th>0</th>\n",
       "      <td>PLC156898</td>\n",
       "      <td>19</td>\n",
       "      <td>female</td>\n",
       "      <td>27.900</td>\n",
       "      <td>16884.92400</td>\n",
       "      <td>0</td>\n",
       "      <td>yes</td>\n",
       "      <td>southwest</td>\n",
       "      <td>Overweight</td>\n",
       "      <td>18-25</td>\n",
       "    </tr>\n",
       "    <tr>\n",
       "      <th>1</th>\n",
       "      <td>PLC156907</td>\n",
       "      <td>18</td>\n",
       "      <td>male</td>\n",
       "      <td>33.770</td>\n",
       "      <td>1725.55230</td>\n",
       "      <td>1</td>\n",
       "      <td>no</td>\n",
       "      <td>southeast</td>\n",
       "      <td>Obesity</td>\n",
       "      <td>18-25</td>\n",
       "    </tr>\n",
       "    <tr>\n",
       "      <th>2</th>\n",
       "      <td>PLC156916</td>\n",
       "      <td>28</td>\n",
       "      <td>male</td>\n",
       "      <td>33.000</td>\n",
       "      <td>4449.46200</td>\n",
       "      <td>3</td>\n",
       "      <td>no</td>\n",
       "      <td>southeast</td>\n",
       "      <td>Obesity</td>\n",
       "      <td>26-35</td>\n",
       "    </tr>\n",
       "    <tr>\n",
       "      <th>3</th>\n",
       "      <td>PLC156925</td>\n",
       "      <td>33</td>\n",
       "      <td>male</td>\n",
       "      <td>22.705</td>\n",
       "      <td>21984.47061</td>\n",
       "      <td>0</td>\n",
       "      <td>no</td>\n",
       "      <td>northwest</td>\n",
       "      <td>Normal Weight</td>\n",
       "      <td>26-35</td>\n",
       "    </tr>\n",
       "    <tr>\n",
       "      <th>4</th>\n",
       "      <td>PLC156934</td>\n",
       "      <td>32</td>\n",
       "      <td>male</td>\n",
       "      <td>28.880</td>\n",
       "      <td>3866.85520</td>\n",
       "      <td>0</td>\n",
       "      <td>no</td>\n",
       "      <td>northwest</td>\n",
       "      <td>Overweight</td>\n",
       "      <td>26-35</td>\n",
       "    </tr>\n",
       "  </tbody>\n",
       "</table>\n",
       "</div>"
      ],
      "text/plain": [
       "   Policy no  age     sex     bmi  charges in INR  Children Smoker     Region  \\\n",
       "0  PLC156898   19  female  27.900     16884.92400         0    yes  southwest   \n",
       "1  PLC156907   18    male  33.770      1725.55230         1     no  southeast   \n",
       "2  PLC156916   28    male  33.000      4449.46200         3     no  southeast   \n",
       "3  PLC156925   33    male  22.705     21984.47061         0     no  northwest   \n",
       "4  PLC156934   32    male  28.880      3866.85520         0     no  northwest   \n",
       "\n",
       "    BMI Category Age Group  \n",
       "0     Overweight     18-25  \n",
       "1        Obesity     18-25  \n",
       "2        Obesity     26-35  \n",
       "3  Normal Weight     26-35  \n",
       "4     Overweight     26-35  "
      ]
     },
     "execution_count": 5,
     "metadata": {},
     "output_type": "execute_result"
    }
   ],
   "source": [
    "# Load your combined dataset that includes demographic + health check data\n",
    "df = pd.read_excel(\"../data/Machine_Learning_Dataset.xlsx\")\n",
    "# Display the first few rows\n",
    "df.head()"
   ]
  },
  {
   "cell_type": "code",
   "execution_count": null,
   "id": "9a76cda5-1b7d-492c-89e9-10cb33fa73fe",
   "metadata": {},
   "outputs": [],
   "source": [
    "# Separate the independent features (X) and target variable (y)\n",
    "# Dropping 'charges in INR' from X because it's the target variable\n",
    "# Dropping 'Policy no.' as it's just an identifier and not useful for prediction\n",
    "X = df.drop([\"charges in INR\", \"Policy no.\"], axis=1)\n",
    "\n",
    "# Defining the target variable (y) as the medical charges\n",
    "y = df[\"charges in INR\"]"
   ]
  },
  {
   "cell_type": "code",
   "execution_count": 27,
   "id": "cd3ad43e-0fa5-44ee-89eb-50ffd3e986c5",
   "metadata": {},
   "outputs": [
    {
     "name": "stdout",
     "output_type": "stream",
     "text": [
      "Numerical Features: ['age', 'bmi', 'Children']\n",
      "Categorical Features: ['sex', 'Smoker', 'Region', 'BMI Category', 'Age Group']\n"
     ]
    }
   ],
   "source": [
    "# Find numeric columns\n",
    "num_features = X.select_dtypes(include=[\"int64\", \"float64\"]).columns.tolist()\n",
    "\n",
    "# Find categorical columns (object means string/categorical)\n",
    "cat_features = X.select_dtypes(include=[\"object\"]).columns.tolist()\n",
    "\n",
    "print(\"Numerical Features:\", num_features)\n",
    "print(\"Categorical Features:\", cat_features)"
   ]
  },
  {
   "cell_type": "code",
   "execution_count": 28,
   "id": "3a144f3b-aa89-48cb-a6b1-5a8647df3c83",
   "metadata": {},
   "outputs": [],
   "source": [
    "#Split the Data into Train and Test Sets\n",
    "X_train, X_test, y_train, y_test = train_test_split(\n",
    "    X, y, test_size=0.2, random_state=42\n",
    ")"
   ]
  },
  {
   "cell_type": "code",
   "execution_count": 29,
   "id": "965276b5-e8e6-410f-8253-53c39049de44",
   "metadata": {},
   "outputs": [],
   "source": [
    "# Preprocess: scale numerical and encode categorical\n",
    "preprocessor = ColumnTransformer(transformers=[\n",
    "    ('num', StandardScaler(), num_features),              # Scale numeric features\n",
    "    ('cat', OneHotEncoder(drop='first'), cat_features)    # One-hot encode categorical features\n",
    "])\n",
    "\n",
    "# Create ML pipeline: preprocessing + model\n",
    "pipeline = Pipeline(steps=[\n",
    "    ('preprocessor', preprocessor),\n",
    "    ('model', RandomForestRegressor(random_state=42))\n",
    "])"
   ]
  },
  {
   "cell_type": "code",
   "execution_count": 30,
   "id": "c90d2a75-ce54-46fc-bf78-d0dcc0d1bf03",
   "metadata": {},
   "outputs": [
    {
     "name": "stdout",
     "output_type": "stream",
     "text": [
      "Best Parameters: {'model__max_depth': 10, 'model__min_samples_split': 5, 'model__n_estimators': 100}\n"
     ]
    }
   ],
   "source": [
    "# Define hyperparameters to try\n",
    "param_grid = {\n",
    "    'model__n_estimators': [100, 200],           # Number of trees\n",
    "    'model__max_depth': [10, 20, None],          # Tree depth\n",
    "    'model__min_samples_split': [2, 5]           # Minimum samples to split a node\n",
    "}\n",
    "\n",
    "# Run GridSearchCV\n",
    "grid_search = GridSearchCV(\n",
    "    pipeline, param_grid, cv=5, scoring='neg_root_mean_squared_error'\n",
    ")\n",
    "\n",
    "grid_search.fit(X_train, y_train)\n",
    "\n",
    "print(\"Best Parameters:\", grid_search.best_params_)"
   ]
  },
  {
   "cell_type": "code",
   "execution_count": 32,
   "id": "1c022f5f-2806-420e-b1fc-53b8a3de488d",
   "metadata": {},
   "outputs": [
    {
     "name": "stdout",
     "output_type": "stream",
     "text": [
      "Model Performance:\n",
      "MAE: 2530.8891474849834\n",
      "RMSE: 4501.178420164309\n",
      "R² Score: 0.8694958279177537\n"
     ]
    }
   ],
   "source": [
    "# Predict on test set\n",
    "y_pred = grid_search.predict(X_test)\n",
    "\n",
    "# Evaluate performance\n",
    "mae = mean_absolute_error(y_test, y_pred)\n",
    "rmse = mean_squared_error(y_test, y_pred) ** 0.5  # RMSE = sqrt(MSE)\n",
    "r2 = r2_score(y_test, y_pred)\n",
    "\n",
    "# Display results\n",
    "print(\"Model Performance:\")\n",
    "print(\"MAE:\", mae)\n",
    "print(\"RMSE:\", rmse)\n",
    "print(\"R² Score:\", r2)"
   ]
  },
  {
   "cell_type": "code",
   "execution_count": 33,
   "id": "abc3c6e0-eab0-4f30-b7cb-928178996d33",
   "metadata": {},
   "outputs": [
    {
     "data": {
      "text/plain": [
       "['../models/best_model.pkl']"
      ]
     },
     "execution_count": 33,
     "metadata": {},
     "output_type": "execute_result"
    }
   ],
   "source": [
    "# Save best model to reuse later without retraining\n",
    "joblib.dump(grid_search.best_estimator_, \"../models/best_model.pkl\")"
   ]
  }
 ],
 "metadata": {
  "kernelspec": {
   "display_name": "Python 3 (ipykernel)",
   "language": "python",
   "name": "python3"
  },
  "language_info": {
   "codemirror_mode": {
    "name": "ipython",
    "version": 3
   },
   "file_extension": ".py",
   "mimetype": "text/x-python",
   "name": "python",
   "nbconvert_exporter": "python",
   "pygments_lexer": "ipython3",
   "version": "3.12.5"
  }
 },
 "nbformat": 4,
 "nbformat_minor": 5
}
